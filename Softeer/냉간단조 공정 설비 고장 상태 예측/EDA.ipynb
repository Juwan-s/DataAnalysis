{
 "cells": [
  {
   "cell_type": "markdown",
   "metadata": {},
   "source": [
    "# Import required libraries"
   ]
  },
  {
   "cell_type": "code",
   "execution_count": 1,
   "metadata": {},
   "outputs": [],
   "source": [
    "import os\n",
    "import pandas as pd\n",
    "import numpy as np\n",
    "\n",
    "import matplotlib.pyplot as plt\n",
    "import seaborn as sns"
   ]
  },
  {
   "cell_type": "markdown",
   "metadata": {},
   "source": [
    "# Dataset import"
   ]
  },
  {
   "cell_type": "markdown",
   "metadata": {},
   "source": [
    "## Train set"
   ]
  },
  {
   "cell_type": "code",
   "execution_count": 2,
   "metadata": {},
   "outputs": [],
   "source": [
    "train_df = pd.read_csv(os.path.join('./', 'train.csv'))"
   ]
  },
  {
   "cell_type": "code",
   "execution_count": 4,
   "metadata": {},
   "outputs": [
    {
     "data": {
      "text/html": [
       "<div>\n",
       "<style scoped>\n",
       "    .dataframe tbody tr th:only-of-type {\n",
       "        vertical-align: middle;\n",
       "    }\n",
       "\n",
       "    .dataframe tbody tr th {\n",
       "        vertical-align: top;\n",
       "    }\n",
       "\n",
       "    .dataframe thead th {\n",
       "        text-align: right;\n",
       "    }\n",
       "</style>\n",
       "<table border=\"1\" class=\"dataframe\">\n",
       "  <thead>\n",
       "    <tr style=\"text-align: right;\">\n",
       "      <th></th>\n",
       "      <th>Timestamp</th>\n",
       "      <th>main_air_press</th>\n",
       "      <th>main_motor_curr</th>\n",
       "      <th>metal_oil_supply_press_contr</th>\n",
       "      <th>metal_oil_supply_press_cut</th>\n",
       "      <th>metal_temp_control</th>\n",
       "      <th>metal_temp_cut</th>\n",
       "      <th>oil_supply_press</th>\n",
       "      <th>output_count_sum</th>\n",
       "      <th>status</th>\n",
       "      <th>tongs_cast_curr</th>\n",
       "      <th>tongs_cast_set_freq</th>\n",
       "      <th>trans_pos_down</th>\n",
       "      <th>trans_pos_left</th>\n",
       "      <th>trans_pos_right</th>\n",
       "      <th>trans_pos_up</th>\n",
       "      <th>work_oil_supply_press</th>\n",
       "    </tr>\n",
       "  </thead>\n",
       "  <tbody>\n",
       "    <tr>\n",
       "      <th>0</th>\n",
       "      <td>2022-05-12 20:01:51</td>\n",
       "      <td>2591.20</td>\n",
       "      <td>4099.0</td>\n",
       "      <td>278.300</td>\n",
       "      <td>231.900</td>\n",
       "      <td>43.0</td>\n",
       "      <td>43.0</td>\n",
       "      <td>472.111</td>\n",
       "      <td>122337.0</td>\n",
       "      <td>2.0</td>\n",
       "      <td>0.0</td>\n",
       "      <td>6000.0</td>\n",
       "      <td>638.800</td>\n",
       "      <td>796.857</td>\n",
       "      <td>1729.50</td>\n",
       "      <td>948.600</td>\n",
       "      <td>1861.10</td>\n",
       "    </tr>\n",
       "    <tr>\n",
       "      <th>1</th>\n",
       "      <td>2022-05-12 20:01:52</td>\n",
       "      <td>2597.40</td>\n",
       "      <td>5764.0</td>\n",
       "      <td>280.100</td>\n",
       "      <td>240.900</td>\n",
       "      <td>NaN</td>\n",
       "      <td>NaN</td>\n",
       "      <td>475.300</td>\n",
       "      <td>122342.0</td>\n",
       "      <td>2.0</td>\n",
       "      <td>NaN</td>\n",
       "      <td>NaN</td>\n",
       "      <td>638.714</td>\n",
       "      <td>797.000</td>\n",
       "      <td>1729.90</td>\n",
       "      <td>948.555</td>\n",
       "      <td>1852.60</td>\n",
       "    </tr>\n",
       "    <tr>\n",
       "      <th>2</th>\n",
       "      <td>2022-05-12 20:01:53</td>\n",
       "      <td>2593.40</td>\n",
       "      <td>4007.0</td>\n",
       "      <td>291.100</td>\n",
       "      <td>236.700</td>\n",
       "      <td>NaN</td>\n",
       "      <td>NaN</td>\n",
       "      <td>466.125</td>\n",
       "      <td>122347.0</td>\n",
       "      <td>2.0</td>\n",
       "      <td>NaN</td>\n",
       "      <td>NaN</td>\n",
       "      <td>637.100</td>\n",
       "      <td>797.333</td>\n",
       "      <td>1729.50</td>\n",
       "      <td>947.100</td>\n",
       "      <td>1846.60</td>\n",
       "    </tr>\n",
       "    <tr>\n",
       "      <th>3</th>\n",
       "      <td>2022-05-12 20:01:54</td>\n",
       "      <td>2592.33</td>\n",
       "      <td>5346.0</td>\n",
       "      <td>280.222</td>\n",
       "      <td>225.777</td>\n",
       "      <td>NaN</td>\n",
       "      <td>NaN</td>\n",
       "      <td>474.111</td>\n",
       "      <td>122352.0</td>\n",
       "      <td>2.0</td>\n",
       "      <td>NaN</td>\n",
       "      <td>NaN</td>\n",
       "      <td>638.800</td>\n",
       "      <td>796.875</td>\n",
       "      <td>1729.87</td>\n",
       "      <td>948.700</td>\n",
       "      <td>1855.25</td>\n",
       "    </tr>\n",
       "    <tr>\n",
       "      <th>4</th>\n",
       "      <td>2022-05-12 20:01:55</td>\n",
       "      <td>2592.83</td>\n",
       "      <td>4245.0</td>\n",
       "      <td>278.100</td>\n",
       "      <td>243.900</td>\n",
       "      <td>NaN</td>\n",
       "      <td>NaN</td>\n",
       "      <td>479.500</td>\n",
       "      <td>122357.0</td>\n",
       "      <td>2.0</td>\n",
       "      <td>NaN</td>\n",
       "      <td>NaN</td>\n",
       "      <td>637.666</td>\n",
       "      <td>797.250</td>\n",
       "      <td>1730.00</td>\n",
       "      <td>947.400</td>\n",
       "      <td>1853.80</td>\n",
       "    </tr>\n",
       "  </tbody>\n",
       "</table>\n",
       "</div>"
      ],
      "text/plain": [
       "             Timestamp  main_air_press  main_motor_curr  \\\n",
       "0  2022-05-12 20:01:51         2591.20           4099.0   \n",
       "1  2022-05-12 20:01:52         2597.40           5764.0   \n",
       "2  2022-05-12 20:01:53         2593.40           4007.0   \n",
       "3  2022-05-12 20:01:54         2592.33           5346.0   \n",
       "4  2022-05-12 20:01:55         2592.83           4245.0   \n",
       "\n",
       "   metal_oil_supply_press_contr  metal_oil_supply_press_cut  \\\n",
       "0                       278.300                     231.900   \n",
       "1                       280.100                     240.900   \n",
       "2                       291.100                     236.700   \n",
       "3                       280.222                     225.777   \n",
       "4                       278.100                     243.900   \n",
       "\n",
       "   metal_temp_control  metal_temp_cut  oil_supply_press  output_count_sum  \\\n",
       "0                43.0            43.0           472.111          122337.0   \n",
       "1                 NaN             NaN           475.300          122342.0   \n",
       "2                 NaN             NaN           466.125          122347.0   \n",
       "3                 NaN             NaN           474.111          122352.0   \n",
       "4                 NaN             NaN           479.500          122357.0   \n",
       "\n",
       "   status  tongs_cast_curr  tongs_cast_set_freq  trans_pos_down  \\\n",
       "0     2.0              0.0               6000.0         638.800   \n",
       "1     2.0              NaN                  NaN         638.714   \n",
       "2     2.0              NaN                  NaN         637.100   \n",
       "3     2.0              NaN                  NaN         638.800   \n",
       "4     2.0              NaN                  NaN         637.666   \n",
       "\n",
       "   trans_pos_left  trans_pos_right  trans_pos_up  work_oil_supply_press  \n",
       "0         796.857          1729.50       948.600                1861.10  \n",
       "1         797.000          1729.90       948.555                1852.60  \n",
       "2         797.333          1729.50       947.100                1846.60  \n",
       "3         796.875          1729.87       948.700                1855.25  \n",
       "4         797.250          1730.00       947.400                1853.80  "
      ]
     },
     "execution_count": 4,
     "metadata": {},
     "output_type": "execute_result"
    }
   ],
   "source": [
    "train_df.head()"
   ]
  },
  {
   "cell_type": "code",
   "execution_count": 5,
   "metadata": {},
   "outputs": [
    {
     "name": "stdout",
     "output_type": "stream",
     "text": [
      "<class 'pandas.core.frame.DataFrame'>\n",
      "RangeIndex: 30000 entries, 0 to 29999\n",
      "Data columns (total 17 columns):\n",
      " #   Column                        Non-Null Count  Dtype  \n",
      "---  ------                        --------------  -----  \n",
      " 0   Timestamp                     30000 non-null  object \n",
      " 1   main_air_press                30000 non-null  float64\n",
      " 2   main_motor_curr               29290 non-null  float64\n",
      " 3   metal_oil_supply_press_contr  29966 non-null  float64\n",
      " 4   metal_oil_supply_press_cut    29963 non-null  float64\n",
      " 5   metal_temp_control            137 non-null    float64\n",
      " 6   metal_temp_cut                93 non-null     float64\n",
      " 7   oil_supply_press              29991 non-null  float64\n",
      " 8   output_count_sum              22158 non-null  float64\n",
      " 9   status                        30000 non-null  float64\n",
      " 10  tongs_cast_curr               32 non-null     float64\n",
      " 11  tongs_cast_set_freq           5 non-null      float64\n",
      " 12  trans_pos_down                23340 non-null  float64\n",
      " 13  trans_pos_left                23753 non-null  float64\n",
      " 14  trans_pos_right               27795 non-null  float64\n",
      " 15  trans_pos_up                  24495 non-null  float64\n",
      " 16  work_oil_supply_press         22266 non-null  float64\n",
      "dtypes: float64(16), object(1)\n",
      "memory usage: 3.9+ MB\n"
     ]
    }
   ],
   "source": [
    "train_df.info()"
   ]
  },
  {
   "cell_type": "markdown",
   "metadata": {},
   "source": [
    "- Timestamp: 측정시간\n",
    "- main_air_press: 메인 에어 입력\n",
    "- main_motor_curr: 메인 모터 전류\n",
    "- metal_oil_supply_press_contr: 어깨 메탈 오일공급 압력 조작측\n",
    "- metal_oil_supply_press_cut: 어깨 메탈 오일공급 압력 절단측\n",
    "- metal_temp_control: 어꺠 메탈 온도 조작측\n",
    "- metal_temp_cut: 어깨 메탈 온도 절단측\n",
    "- oil_supply_press: 윤활유 공급 압력\n",
    "- output_count_sum: 일일 누적 생산량\n",
    "- status                      \n",
    "- tongs_cast_curr             \n",
    "- tongs_cast_set_freq         \n",
    "- trans_pos_down              \n",
    "- trans_pos_left              \n",
    "- trans_pos_right             \n",
    "- trans_pos_up                \n",
    "- work_oil_supply_press       "
   ]
  },
  {
   "cell_type": "markdown",
   "metadata": {},
   "source": [
    "## Test set"
   ]
  },
  {
   "cell_type": "code",
   "execution_count": null,
   "metadata": {},
   "outputs": [],
   "source": []
  },
  {
   "cell_type": "code",
   "execution_count": null,
   "metadata": {},
   "outputs": [],
   "source": []
  }
 ],
 "metadata": {
  "kernelspec": {
   "display_name": "datascientist",
   "language": "python",
   "name": "python3"
  },
  "language_info": {
   "codemirror_mode": {
    "name": "ipython",
    "version": 3
   },
   "file_extension": ".py",
   "mimetype": "text/x-python",
   "name": "python",
   "nbconvert_exporter": "python",
   "pygments_lexer": "ipython3",
   "version": "3.12.10"
  }
 },
 "nbformat": 4,
 "nbformat_minor": 2
}
